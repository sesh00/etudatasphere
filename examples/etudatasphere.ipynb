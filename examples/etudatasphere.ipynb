{
 "cells": [
  {
   "cell_type": "markdown",
   "id": "8dfdd3020c642449",
   "metadata": {
    "collapsed": false,
    "jupyter": {
     "outputs_hidden": false
    }
   },
   "source": [
    "# EtuDataSphere "
   ]
  },
  {
   "cell_type": "markdown",
   "id": "215b3a2b86a76fd5",
   "metadata": {
    "collapsed": false,
    "jupyter": {
     "outputs_hidden": false
    }
   },
   "source": [
    "## Установка"
   ]
  },
  {
   "cell_type": "markdown",
   "id": "ca269fc947ce26f4",
   "metadata": {
    "collapsed": false,
    "jupyter": {
     "outputs_hidden": false
    }
   },
   "source": [
    "С помощью [Pip](https://pypi.org/project/etudatasphere):"
   ]
  },
  {
   "cell_type": "code",
   "execution_count": null,
   "id": "200031b0-c374-4c46-9691-05231685e34f",
   "metadata": {},
   "outputs": [],
   "source": [
    "!pip install etudatasphere"
   ]
  },
  {
   "cell_type": "markdown",
   "id": "d42e6482bb9641a8",
   "metadata": {
    "collapsed": false,
    "jupyter": {
     "outputs_hidden": false
    }
   },
   "source": [
    "Или через [GitHub](https://github.com/sesh00/etudatasphere/):"
   ]
  },
  {
   "cell_type": "code",
   "execution_count": null,
   "id": "fb3941f9-9cd0-492a-9206-afa6d4508c37",
   "metadata": {
    "scrolled": true
   },
   "outputs": [],
   "source": [
    "!pip install https://github.com/sesh00/etudatasphere/archive/main.zip"
   ]
  },
  {
   "cell_type": "markdown",
   "id": "a35b5401-fade-485e-9fb2-caa95e4e9090",
   "metadata": {},
   "source": [
    "## Использование"
   ]
  },
  {
   "cell_type": "markdown",
   "id": "56ecbff0-c2e2-40eb-aa73-b1c8b93cd060",
   "metadata": {},
   "source": [
    "## Импорт и инициализация"
   ]
  },
  {
   "cell_type": "markdown",
   "id": "fd7472bd-dea9-42b2-8175-8ba6d41d356d",
   "metadata": {},
   "source": [
    "Импорт библиотеки:"
   ]
  },
  {
   "cell_type": "code",
   "execution_count": 2,
   "id": "de0b7e74-d348-4f00-a0ef-35af6b778a3a",
   "metadata": {},
   "outputs": [],
   "source": [
    "from etudatasphere import *"
   ]
  },
  {
   "cell_type": "markdown",
   "id": "1c80d279-939d-41e1-86bf-8549eee8d13a",
   "metadata": {},
   "source": [
    "Необходимо подставить свой [oauth](https://yandex.cloud/ru/docs/iam/concepts/authorization/oauth-token)  токен:"
   ]
  },
  {
   "cell_type": "code",
   "execution_count": 3,
   "id": "eabd0012-50a4-49de-a69c-6c0b0cdf7d6e",
   "metadata": {},
   "outputs": [],
   "source": [
    "ouath = \"\""
   ]
  },
  {
   "cell_type": "markdown",
   "id": "49856c8d-1b14-40e0-bb60-f405edc196b4",
   "metadata": {},
   "source": [
    "Далее, инициализируем необходимые менеджеры для работы:\n",
    "- DataSphereManager – необходим для работы с API DataSphere\n",
    "- OperationManager – позволяет проверять статус операций (для соответствующих методов)"
   ]
  },
  {
   "cell_type": "code",
   "execution_count": 4,
   "id": "fa15642c-ce0c-402d-be79-2c72762dbc58",
   "metadata": {},
   "outputs": [
    {
     "name": "stdout",
     "output_type": "stream",
     "text": [
      "Oauth is valid.\n",
      "Oauth is valid.\n"
     ]
    }
   ],
   "source": [
    "dataSphereManager = DataSphereManager(oauth_token=ouath)\n",
    "operationManager = OperationManager(oauth_token=ouath)"
   ]
  },
  {
   "cell_type": "markdown",
   "id": "73c302de-f43b-47d4-a5a8-682281472637",
   "metadata": {},
   "source": [
    "## Получение списка организаций"
   ]
  },
  {
   "cell_type": "code",
   "execution_count": 6,
   "id": "d0b3adfc-881d-46ab-8ab9-85b87fe2ded8",
   "metadata": {},
   "outputs": [
    {
     "name": "stdout",
     "output_type": "stream",
     "text": [
      "TITLE organization-digital\n",
      "ID bpf9tof80bcm470e6ajn\n",
      "*************************\n",
      "TITLE For subaccount 'ЛЭТИ - тест'\n",
      "ID bpfa94oocmi345p7tpv7\n",
      "*************************\n",
      "TITLE organization-ersagidullin@stud.etu.ru\n",
      "ID bpfthpfn4mg928n51qmp\n",
      "*************************\n"
     ]
    }
   ],
   "source": [
    "dataSphereManager.get_organizations()"
   ]
  },
  {
   "cell_type": "markdown",
   "id": "599bfad3-4e98-4ee1-9c4a-5764da9f53e0",
   "metadata": {},
   "source": [
    "## Получение списка облак"
   ]
  },
  {
   "cell_type": "markdown",
   "id": "2aa16d68-3b91-47ae-ae99-ede53c78f020",
   "metadata": {},
   "source": [
    "Необходимо подставить идентификатор организации"
   ]
  },
  {
   "cell_type": "code",
   "execution_count": 10,
   "id": "43471093-f89d-4e8a-a3b1-6226731bf392",
   "metadata": {},
   "outputs": [
    {
     "name": "stdout",
     "output_type": "stream",
     "text": [
      "NAME cloud-kaf-am\n",
      "CLOUD_ID b1g18gi9invs0mil41rg\n",
      "ORGANIZATION_ID bpf9tof80bcm470e6ajn\n",
      "*************************\n",
      "NAME cloud-iakhakhaev\n",
      "CLOUD_ID b1g6jlj280dp4j4otv6u\n",
      "ORGANIZATION_ID bpf9tof80bcm470e6ajn\n",
      "*************************\n",
      "NAME cloud-com-vision\n",
      "CLOUD_ID b1g6q04rr7eoedu96gqu\n",
      "ORGANIZATION_ID bpf9tof80bcm470e6ajn\n",
      "*************************\n",
      "NAME cloud-fl\n",
      "CLOUD_ID b1g89d60e9sal331v0t7\n",
      "ORGANIZATION_ID bpf9tof80bcm470e6ajn\n",
      "*************************\n",
      "NAME cloud-rnis\n",
      "CLOUD_ID b1getjauls7eoajol1sm\n",
      "ORGANIZATION_ID bpf9tof80bcm470e6ajn\n",
      "*************************\n",
      "NAME cloud-bigdata-course\n",
      "CLOUD_ID b1gf1k9lec3tvto9767o\n",
      "ORGANIZATION_ID bpf9tof80bcm470e6ajn\n",
      "*************************\n",
      "NAME cloud-digital\n",
      "CLOUD_ID b1gsgtt5bf248o38rfgi\n",
      "ORGANIZATION_ID bpf9tof80bcm470e6ajn\n",
      "*************************\n"
     ]
    }
   ],
   "source": [
    "organization_id = \"bpf9tof80bcm470e6ajn\"\n",
    "dataSphereManager.get_clouds(organization_id=organization_id)"
   ]
  },
  {
   "cell_type": "markdown",
   "id": "268a261f-640b-4624-a605-fe7b5f9c52fc",
   "metadata": {},
   "source": [
    "## Получение списка доступных ролей"
   ]
  },
  {
   "cell_type": "code",
   "execution_count": 8,
   "id": "5bf37b0d-372e-4762-84ab-b652c4f4b5bc",
   "metadata": {},
   "outputs": [
    {
     "data": {
      "text/plain": [
       "[{'id': 'datasphere.admin'},\n",
       " {'id': 'datasphere.communities.admin'},\n",
       " {'id': 'datasphere.communities.developer'},\n",
       " {'id': 'datasphere.communities.editor'},\n",
       " {'id': 'datasphere.communities.viewer'},\n",
       " {'id': 'datasphere.community-projects.admin'},\n",
       " {'id': 'datasphere.community-projects.developer'},\n",
       " {'id': 'datasphere.community-projects.editor'},\n",
       " {'id': 'datasphere.community-projects.viewer'},\n",
       " {'id': 'datasphere.user'}]"
      ]
     },
     "execution_count": 8,
     "metadata": {},
     "output_type": "execute_result"
    }
   ],
   "source": [
    "dataSphereManager.get_possible_ds_roles()"
   ]
  },
  {
   "cell_type": "markdown",
   "id": "2672a15b-eb6e-4225-bbe4-6a247dbdb754",
   "metadata": {},
   "source": [
    "## Получить список участников органзации"
   ]
  },
  {
   "cell_type": "markdown",
   "id": "086b2cff-c29a-4f21-8b1a-bc87dd73600d",
   "metadata": {},
   "source": [
    "Необходимо подставить индентификатор интересующей организации"
   ]
  },
  {
   "cell_type": "code",
   "execution_count": 7,
   "id": "7e966798-27be-4e5d-a805-169eb186f6f3",
   "metadata": {},
   "outputs": [
    {
     "name": "stdout",
     "output_type": "stream",
     "text": [
      "NAME Александр Пулинец\n",
      "ID aje1cl3g7ooj5b49qjhv\n",
      "*************************\n",
      "NAME Dmitry Fomichev\n",
      "ID aje3e6pnq1io5fe801d3\n",
      "*************************\n",
      "NAME Егор Д.\n",
      "ID aje40odhkk2v06f8ohgs\n",
      "*************************\n",
      "NAME Александр Тимофеев\n",
      "ID aje4nu6opjock7h84fq0\n",
      "*************************\n",
      "NAME Алексей А.\n",
      "ID aje7vav21hi3r28frmuo\n",
      "*************************\n",
      "NAME Эрнест Сагидуллин\n",
      "ID ajebni1dr6lgce3jkl3d\n",
      "*************************\n",
      "NAME Михаил Е.\n",
      "ID ajeeoov27npmkc41bent\n",
      "*************************\n",
      "NAME Максим О.\n",
      "ID ajefgrrt33t12jiof5av\n",
      "*************************\n",
      "NAME Холод Иван\n",
      "ID ajehv2vjraah3v0vf0hb\n",
      "*************************\n",
      "NAME Максим Дежнёв\n",
      "ID ajeihend08ebgp2seu06\n",
      "*************************\n",
      "NAME checker-test\n",
      "ID ajeks1fro94pefh83r63\n",
      "*************************\n",
      "NAME Катерина\n",
      "ID ajelh35865g2rkffccj9\n",
      "*************************\n",
      "NAME dataproc-account\n",
      "ID ajetr04s677nsraibs0k\n",
      "*************************\n"
     ]
    }
   ],
   "source": [
    "org_id = \"bpfa94oocmi345p7tpv7\" \n",
    "dataSphereManager.get_organization_members(org_id)"
   ]
  },
  {
   "cell_type": "markdown",
   "id": "ff295325-f056-4370-82d6-315a99b21582",
   "metadata": {},
   "source": [
    "## Запрос платежных аккаунтов"
   ]
  },
  {
   "cell_type": "code",
   "execution_count": 9,
   "id": "1c3f5f08-b7a6-4845-8c29-abc5cc045c42",
   "metadata": {},
   "outputs": [
    {
     "data": {
      "text/plain": [
       "{}"
      ]
     },
     "execution_count": 9,
     "metadata": {},
     "output_type": "execute_result"
    }
   ],
   "source": [
    "dataSphereManager.get_billing_accounts()"
   ]
  },
  {
   "cell_type": "markdown",
   "id": "3ff4c16a-15b0-48ec-aecf-00e4d44b16f2",
   "metadata": {},
   "source": [
    "## Получение списка сообществ"
   ]
  },
  {
   "cell_type": "markdown",
   "id": "2b3041eb-e35d-4a6a-9d07-d58a77b54a7f",
   "metadata": {},
   "source": [
    "Необходимо подставить идентификатор интересующей организации"
   ]
  },
  {
   "cell_type": "code",
   "execution_count": 13,
   "id": "7f6a2da8-e5b4-4285-84ef-399076b9127d",
   "metadata": {},
   "outputs": [
    {
     "name": "stdout",
     "output_type": "stream",
     "text": [
      "\n",
      "Community Id: bt1q3vptk5robl10gnvb\n",
      "\n",
      "Community Name: test\n",
      "\n",
      "Community CreatedById: aje3e6pnq1io5fe801d3\n",
      "\n",
      "Community OrganizationId: bpfa94oocmi345p7tpv7\n",
      "\n",
      "***********************************************\n",
      "        \n",
      "Community Id: bt1u8sr3l01444sc22gm\n",
      "\n",
      "Community Name: yaGPT_test\n",
      "\n",
      "Community CreatedById: aje40odhkk2v06f8ohgs\n",
      "\n",
      "Community OrganizationId: bpfa94oocmi345p7tpv7\n",
      "\n",
      "***********************************************\n",
      "        \n"
     ]
    }
   ],
   "source": [
    "organization_id = \"bpfa94oocmi345p7tpv7\"\n",
    "communities = dataSphereManager.get_organization_communities(organization_id, parse_communities_flag=True)\n",
    "print(communities)"
   ]
  },
  {
   "cell_type": "markdown",
   "id": "9b19ef7a-59f5-48be-b0aa-f5f8ed0bc5e5",
   "metadata": {},
   "source": [
    "## Создать сообщество"
   ]
  },
  {
   "cell_type": "markdown",
   "id": "2f48ec13-a254-4645-a127-832c47724fcb",
   "metadata": {},
   "source": [
    "Необходимо подставить имя, описание, идентификатор организации и идентификатор платежного аккаунта для сообщества"
   ]
  },
  {
   "cell_type": "code",
   "execution_count": null,
   "id": "c3fddf33-ca22-4cd6-8a6d-b6b027546fff",
   "metadata": {
    "scrolled": true
   },
   "outputs": [],
   "source": [
    "name = \"\"\n",
    "description = \"\"\n",
    "organizationId = \"\"\n",
    "billingAccountId = \"\"\n",
    "dataSphereManager.create_community(name=name,\n",
    "                                   description=description,\n",
    "                                   organizationId=organizationId,\n",
    "                                   billingAccountId=billingAccountId)"
   ]
  },
  {
   "cell_type": "markdown",
   "id": "31452d64-fc43-4b6a-91fd-c8d60a52468e",
   "metadata": {},
   "source": [
    "## Получить информацию о сообществе"
   ]
  },
  {
   "cell_type": "markdown",
   "id": "c56dead1-979f-4768-9750-b2c124e90b78",
   "metadata": {},
   "source": [
    "Необходимо подставить идентификатор сообщества"
   ]
  },
  {
   "cell_type": "code",
   "execution_count": 12,
   "id": "01560640-1acb-41a2-bd3f-ec0207c4c734",
   "metadata": {},
   "outputs": [
    {
     "data": {
      "text/plain": [
       "{'id': 'bt1q3vptk5robl10gnvb',\n",
       " 'createdAt': '2024-04-02T16:09:31Z',\n",
       " 'name': 'test',\n",
       " 'createdById': 'aje3e6pnq1io5fe801d3',\n",
       " 'organizationId': 'bpfa94oocmi345p7tpv7'}"
      ]
     },
     "execution_count": 12,
     "metadata": {},
     "output_type": "execute_result"
    }
   ],
   "source": [
    "community_id = \"bt1q3vptk5robl10gnvb\"\n",
    "dataSphereManager.get_community(community_id=community_id)"
   ]
  },
  {
   "cell_type": "markdown",
   "id": "02c4d72d-9085-4835-ab7c-5d0659e1f1b8",
   "metadata": {},
   "source": [
    "## Получение информации проектов определенного сообщества"
   ]
  },
  {
   "cell_type": "markdown",
   "id": "29fb0956-bee9-41c9-80ba-edbc6b397337",
   "metadata": {},
   "source": [
    "Необходимо подставить идентификатор интересующего сообщества"
   ]
  },
  {
   "cell_type": "code",
   "execution_count": 15,
   "id": "5ea37a52-c415-48ca-8f84-9e59e1805918",
   "metadata": {
    "scrolled": true
   },
   "outputs": [
    {
     "name": "stdout",
     "output_type": "stream",
     "text": [
      "\n",
      "Project name: Change name\n",
      "\n",
      "Project ID: bt1j4ngtkccd9vl6sor3\n",
      "\n",
      "Project settings:\n",
      "\n",
      "\tearlyAccess:False\n",
      "\tserviceAccountId:ajetr04s677nsraibs0k\n",
      "\tsubnetId:e9b54dnsjn2tlnug78bj\n",
      "\tdataProcClusterId:c9qt0nu4guhcq29bgi3j\n",
      "\tcommitMode:AUTO\n",
      "\tide:JUPYTER_LAB\n",
      "\tdefaultFolderId:b1gh2b5r1kmghih05so4\n",
      "\tideExecutionMode:DEDICATED\n",
      "\tvmInactivityTimeout:100s\n",
      "\tunit_balance:55\n",
      "\n",
      "\n",
      "***********************************************\n",
      "        \n",
      "Project name: CheckerTest\n",
      "\n",
      "Project ID: bt14i6sv6qk5p4300r5v\n",
      "\n",
      "Project settings:\n",
      "\n",
      "\tearlyAccess:False\n",
      "\tcommitMode:AUTO\n",
      "\tide:JUPYTER_LAB\n",
      "\tideExecutionMode:DEDICATED\n",
      "\tvmInactivityTimeout:100s\n",
      "\tunit_balance:55\n",
      "\n",
      "\n",
      "***********************************************\n",
      "        \n",
      "Project name: DataProcExample\n",
      "\n",
      "Project ID: bt14a6ea2r49lf6kfoa4\n",
      "\n",
      "Project settings:\n",
      "\n",
      "\tearlyAccess:False\n",
      "\tserviceAccountId:ajetr04s677nsraibs0k\n",
      "\tsubnetId:e9b54dnsjn2tlnug78bj\n",
      "\tdataProcClusterId:c9qt0nu4guhcq29bgi3j\n",
      "\tcommitMode:AUTO\n",
      "\tide:JUPYTER_LAB\n",
      "\tdefaultFolderId:b1gh2b5r1kmghih05so4\n",
      "\tideExecutionMode:DEDICATED\n",
      "\tvmInactivityTimeout:100s\n",
      "\tunit_balance:55\n",
      "\n",
      "\n",
      "***********************************************\n",
      "        \n",
      "Project name: Queue-Service\n",
      "\n",
      "Project ID: bt15an734pcprskkvjkt\n",
      "\n",
      "Project settings:\n",
      "\n",
      "\tearlyAccess:False\n",
      "\tcommitMode:AUTO\n",
      "\tide:JUPYTER_LAB\n",
      "\tideExecutionMode:DEDICATED\n",
      "\tvmInactivityTimeout:100s\n",
      "\tdefaultDedicatedSpec:c1.4\n",
      "\tunit_balance:55\n",
      "\n",
      "\n",
      "***********************************************\n",
      "        \n",
      "Project name: Test Project\n",
      "\n",
      "Project ID: bt11ahcdg10go19banm9\n",
      "\n",
      "Project settings:\n",
      "\n",
      "\tearlyAccess:False\n",
      "\tcommitMode:STANDARD\n",
      "\tide:JUPYTER_LAB\n",
      "\tvmInactivityTimeout:100s\n",
      "\tunit_balance:55\n",
      "\n",
      "\n",
      "***********************************************\n",
      "        \n",
      "Project name: Test Project3\n",
      "\n",
      "Project ID: bt1s08ojg8i38htnbmru\n",
      "\n",
      "Project settings:\n",
      "\n",
      "\tearlyAccess:False\n",
      "\tcommitMode:STANDARD\n",
      "\tide:JUPYTER_LAB\n",
      "\tvmInactivityTimeout:100s\n",
      "\tunit_balance:55\n",
      "\n",
      "\n",
      "***********************************************\n",
      "        \n",
      "Project name: yaGPT_test\n",
      "\n",
      "Project ID: bt1jd2fe23esc4edr14q\n",
      "\n",
      "Project settings:\n",
      "\n",
      "\tearlyAccess:False\n",
      "\tcommitMode:AUTO\n",
      "\tide:JUPYTER_LAB\n",
      "\tideExecutionMode:DEDICATED\n",
      "\tvmInactivityTimeout:100s\n",
      "\tunit_balance:55\n",
      "\n",
      "\n",
      "***********************************************\n",
      "        \n"
     ]
    },
    {
     "data": {
      "text/plain": [
       "{'projects': [{'settings': {'earlyAccess': False,\n",
       "    'serviceAccountId': 'ajetr04s677nsraibs0k',\n",
       "    'subnetId': 'e9b54dnsjn2tlnug78bj',\n",
       "    'dataProcClusterId': 'c9qt0nu4guhcq29bgi3j',\n",
       "    'commitMode': 'AUTO',\n",
       "    'ide': 'JUPYTER_LAB',\n",
       "    'defaultFolderId': 'b1gh2b5r1kmghih05so4',\n",
       "    'ideExecutionMode': 'DEDICATED',\n",
       "    'vmInactivityTimeout': '100s',\n",
       "    'unit_balance': 55},\n",
       "   'limits': {},\n",
       "   'id': 'bt1j4ngtkccd9vl6sor3',\n",
       "   'createdAt': '2024-02-21T02:23:50Z',\n",
       "   'name': 'Change name',\n",
       "   'createdById': 'aje3e6pnq1io5fe801d3',\n",
       "   'communityId': 'bt1u8sr3l01444sc22gm'},\n",
       "  {'settings': {'earlyAccess': False,\n",
       "    'commitMode': 'AUTO',\n",
       "    'ide': 'JUPYTER_LAB',\n",
       "    'ideExecutionMode': 'DEDICATED',\n",
       "    'vmInactivityTimeout': '100s',\n",
       "    'unit_balance': 55},\n",
       "   'limits': {},\n",
       "   'id': 'bt14i6sv6qk5p4300r5v',\n",
       "   'createdAt': '2024-03-27T19:24:17Z',\n",
       "   'name': 'CheckerTest',\n",
       "   'createdById': 'ajeihend08ebgp2seu06',\n",
       "   'communityId': 'bt1u8sr3l01444sc22gm'},\n",
       "  {'settings': {'earlyAccess': False,\n",
       "    'serviceAccountId': 'ajetr04s677nsraibs0k',\n",
       "    'subnetId': 'e9b54dnsjn2tlnug78bj',\n",
       "    'dataProcClusterId': 'c9qt0nu4guhcq29bgi3j',\n",
       "    'commitMode': 'AUTO',\n",
       "    'ide': 'JUPYTER_LAB',\n",
       "    'defaultFolderId': 'b1gh2b5r1kmghih05so4',\n",
       "    'ideExecutionMode': 'DEDICATED',\n",
       "    'vmInactivityTimeout': '100s',\n",
       "    'unit_balance': 55},\n",
       "   'limits': {},\n",
       "   'id': 'bt14a6ea2r49lf6kfoa4',\n",
       "   'createdAt': '2024-02-08T11:48:18Z',\n",
       "   'name': 'DataProcExample',\n",
       "   'createdById': 'aje3e6pnq1io5fe801d3',\n",
       "   'communityId': 'bt1u8sr3l01444sc22gm'},\n",
       "  {'settings': {'earlyAccess': False,\n",
       "    'commitMode': 'AUTO',\n",
       "    'ide': 'JUPYTER_LAB',\n",
       "    'ideExecutionMode': 'DEDICATED',\n",
       "    'vmInactivityTimeout': '100s',\n",
       "    'defaultDedicatedSpec': 'c1.4',\n",
       "    'unit_balance': 55},\n",
       "   'limits': {},\n",
       "   'id': 'bt15an734pcprskkvjkt',\n",
       "   'createdAt': '2024-03-18T10:56:27Z',\n",
       "   'name': 'Queue-Service',\n",
       "   'createdById': 'ajebni1dr6lgce3jkl3d',\n",
       "   'communityId': 'bt1u8sr3l01444sc22gm'},\n",
       "  {'settings': {'earlyAccess': False,\n",
       "    'commitMode': 'STANDARD',\n",
       "    'ide': 'JUPYTER_LAB',\n",
       "    'vmInactivityTimeout': '100s',\n",
       "    'unit_balance': 55},\n",
       "   'limits': {},\n",
       "   'id': 'bt11ahcdg10go19banm9',\n",
       "   'createdAt': '2024-03-18T11:30:15Z',\n",
       "   'name': 'Test Project',\n",
       "   'description': 'Project created from API',\n",
       "   'createdById': 'aje3e6pnq1io5fe801d3',\n",
       "   'communityId': 'bt1u8sr3l01444sc22gm'},\n",
       "  {'settings': {'earlyAccess': False,\n",
       "    'commitMode': 'STANDARD',\n",
       "    'ide': 'JUPYTER_LAB',\n",
       "    'vmInactivityTimeout': '100s',\n",
       "    'unit_balance': 55},\n",
       "   'limits': {},\n",
       "   'id': 'bt1s08ojg8i38htnbmru',\n",
       "   'createdAt': '2024-03-25T09:05:09Z',\n",
       "   'name': 'Test Project3',\n",
       "   'description': 'Project created from API',\n",
       "   'createdById': 'ajebni1dr6lgce3jkl3d',\n",
       "   'communityId': 'bt1u8sr3l01444sc22gm'},\n",
       "  {'settings': {'earlyAccess': False,\n",
       "    'commitMode': 'AUTO',\n",
       "    'ide': 'JUPYTER_LAB',\n",
       "    'ideExecutionMode': 'DEDICATED',\n",
       "    'vmInactivityTimeout': '100s',\n",
       "    'unit_balance': 55},\n",
       "   'limits': {},\n",
       "   'id': 'bt1jd2fe23esc4edr14q',\n",
       "   'createdAt': '2023-12-12T20:29:27Z',\n",
       "   'name': 'yaGPT_test',\n",
       "   'createdById': 'aje40odhkk2v06f8ohgs',\n",
       "   'communityId': 'bt1u8sr3l01444sc22gm'}]}"
      ]
     },
     "execution_count": 15,
     "metadata": {},
     "output_type": "execute_result"
    }
   ],
   "source": [
    "community_id = \"bt1u8sr3l01444sc22gm\"\n",
    "dataSphereManager.get_projects(community_id=community_id, parse_projects_flag=True)"
   ]
  },
  {
   "cell_type": "markdown",
   "id": "0aed85d7-6959-4b58-9fa0-4499360b8e2e",
   "metadata": {},
   "source": [
    "## Получение информации определенного проекта"
   ]
  },
  {
   "cell_type": "markdown",
   "id": "dcead54e-3412-40cc-b7b0-a73260b9aead",
   "metadata": {},
   "source": [
    "Необходимо подставить идентификатор интересующего проекта"
   ]
  },
  {
   "cell_type": "code",
   "execution_count": 17,
   "id": "91fc171e-39d6-4bb8-9b89-51e2e4fd0d95",
   "metadata": {},
   "outputs": [
    {
     "name": "stdout",
     "output_type": "stream",
     "text": [
      "\n",
      "Project name: yaGPT_test\n",
      "\n",
      "Project ID: bt1jd2fe23esc4edr14q\n",
      "\n",
      "Project settings:\n",
      "\n",
      "\tearlyAccess:False\n",
      "\tcommitMode:AUTO\n",
      "\tide:JUPYTER_LAB\n",
      "\tideExecutionMode:DEDICATED\n",
      "\tvmInactivityTimeout:100s\n",
      "\tunit_balance:55\n",
      "\n",
      "\n",
      "***********************************************\n",
      "        \n"
     ]
    },
    {
     "data": {
      "text/plain": [
       "{'settings': {'earlyAccess': False,\n",
       "  'commitMode': 'AUTO',\n",
       "  'ide': 'JUPYTER_LAB',\n",
       "  'ideExecutionMode': 'DEDICATED',\n",
       "  'vmInactivityTimeout': '100s',\n",
       "  'unit_balance': 55},\n",
       " 'limits': {},\n",
       " 'id': 'bt1jd2fe23esc4edr14q',\n",
       " 'createdAt': '2023-12-12T20:29:27Z',\n",
       " 'name': 'yaGPT_test',\n",
       " 'createdById': 'aje40odhkk2v06f8ohgs',\n",
       " 'communityId': 'bt1u8sr3l01444sc22gm'}"
      ]
     },
     "execution_count": 17,
     "metadata": {},
     "output_type": "execute_result"
    }
   ],
   "source": [
    "dataSphereManager.get_projects(project_id=\"bt1jd2fe23esc4edr14q\", parse_projects_flag=True)"
   ]
  },
  {
   "cell_type": "markdown",
   "id": "ffc953c4-47cc-4bf2-8a65-e085ceea5213",
   "metadata": {},
   "source": [
    "## Создание проекта"
   ]
  },
  {
   "cell_type": "markdown",
   "id": "412f4015-8143-4565-ab4a-449b429541dc",
   "metadata": {},
   "source": [
    "Необходимо подставить идентификатор сообщества, имя проекта, его описание, таймаут отключения виртуальной машины"
   ]
  },
  {
   "cell_type": "code",
   "execution_count": 9,
   "id": "ec04b6c9-af0c-4479-a1d5-ca04bdec28bc",
   "metadata": {},
   "outputs": [
    {
     "data": {
      "text/plain": [
       "{'done': False,\n",
       " 'metadata': {'@type': 'type.googleapis.com/yandex.cloud.datasphere.v2.CreateProjectMetadata'},\n",
       " 'id': 'bt1vn74pooic9fo6pa2c'}"
      ]
     },
     "execution_count": 9,
     "metadata": {},
     "output_type": "execute_result"
    }
   ],
   "source": [
    "community_id = \"bt1q3vptk5robl10gnvb\"\n",
    "name = \"testtesttest\"\n",
    "description = \"test\" \n",
    "vmInactivityTimeout = \"100s\" \n",
    "\n",
    "dataSphereManager.create_project(\n",
    "                        community_id = community_id,\n",
    "                        name = name,\n",
    "                        description = description,\n",
    "                        vmInactivityTimeout = vmInactivityTimeout)"
   ]
  },
  {
   "cell_type": "markdown",
   "id": "404afc5e-9dc9-443c-be13-6a3d92868849",
   "metadata": {},
   "source": [
    "## Добавление участников в проект"
   ]
  },
  {
   "cell_type": "markdown",
   "id": "cfb1f43f-acd0-4397-8b92-c6a793ac5f77",
   "metadata": {},
   "source": [
    "Необходимо подставить идентификатор проекта и задать пользователей в указанном формате с определенными ролями"
   ]
  },
  {
   "cell_type": "code",
   "execution_count": null,
   "id": "ec2023ff-eb91-4986-bb5b-e93445b6498b",
   "metadata": {},
   "outputs": [],
   "source": [
    "project_id = \"\" \n",
    "contributors = [\n",
    "        {\n",
    "        \"id\": \"\",\n",
    "        \"role\":\"datasphere.communities.admin\" \n",
    "        },\n",
    "        {\n",
    "        \"id\": \"\",\n",
    "        \"role\": \"datasphere.communities.admin\"\n",
    "        }\n",
    "    ]\n",
    "\n",
    "dataSphereManager.add_contributors(project_id=project_id, contributors=contributors)"
   ]
  },
  {
   "cell_type": "markdown",
   "id": "2acff8c5-6223-4729-9005-3350d8c828e4",
   "metadata": {},
   "source": [
    "## Получение и установка баланса юнитов проекта"
   ]
  },
  {
   "cell_type": "markdown",
   "id": "5f349ec2-0214-43c3-a3e7-aa3a31b98905",
   "metadata": {},
   "source": [
    "Необходимо указать идентификатор проекта и новый баланс"
   ]
  },
  {
   "cell_type": "code",
   "execution_count": null,
   "id": "fc2ed7fd-59ab-46a3-ab16-d1afbffce141",
   "metadata": {},
   "outputs": [],
   "source": [
    "project_id = \"\"\n",
    "unit_balance = 100\n",
    "print(dataSphereManager.get_unit_balance(project_id))\n",
    "dataSphereManager.update_unit_balance(project_id, unit_balance)"
   ]
  },
  {
   "cell_type": "markdown",
   "id": "42bf1cd3-e503-4a79-92a4-edeca0e34287",
   "metadata": {},
   "source": [
    "## Проверить установленные настройки для проектов сообщества"
   ]
  },
  {
   "cell_type": "markdown",
   "id": "d866c2db-e8c4-456a-8345-05bc585324c9",
   "metadata": {},
   "source": [
    "Необходимо подставить идентификатор интересующего сообщества и задать настройки по умолчанию"
   ]
  },
  {
   "cell_type": "code",
   "execution_count": 20,
   "id": "4e8bbd70-6701-489e-b687-81b3bdae90b8",
   "metadata": {
    "collapsed": true,
    "jupyter": {
     "outputs_hidden": true
    }
   },
   "outputs": [
    {
     "name": "stdout",
     "output_type": "stream",
     "text": [
      "\n",
      "Project name: Change name\n",
      "\n",
      "Project ID: bt1j4ngtkccd9vl6sor3\n",
      "\n",
      "Project settings:\n",
      "\n",
      "\tearlyAccess:False\n",
      "\tserviceAccountId:ajetr04s677nsraibs0k\n",
      "\tsubnetId:e9b54dnsjn2tlnug78bj\n",
      "\tdataProcClusterId:c9qt0nu4guhcq29bgi3j\n",
      "\tcommitMode:AUTO\n",
      "\tide:JUPYTER_LAB\n",
      "\tdefaultFolderId:b1gh2b5r1kmghih05so4\n",
      "\tideExecutionMode:DEDICATED\n",
      "\tvmInactivityTimeout:100s\n",
      "\tunit_balance:55\n",
      "\n",
      "\n",
      "***********************************************\n",
      "        \n",
      "Project name: CheckerTest\n",
      "\n",
      "Project ID: bt14i6sv6qk5p4300r5v\n",
      "\n",
      "Project settings:\n",
      "\n",
      "\tearlyAccess:False\n",
      "\tcommitMode:AUTO\n",
      "\tide:JUPYTER_LAB\n",
      "\tideExecutionMode:DEDICATED\n",
      "\tvmInactivityTimeout:100s\n",
      "\tunit_balance:55\n",
      "\n",
      "\n",
      "***********************************************\n",
      "        \n",
      "Project name: DataProcExample\n",
      "\n",
      "Project ID: bt14a6ea2r49lf6kfoa4\n",
      "\n",
      "Project settings:\n",
      "\n",
      "\tearlyAccess:False\n",
      "\tserviceAccountId:ajetr04s677nsraibs0k\n",
      "\tsubnetId:e9b54dnsjn2tlnug78bj\n",
      "\tdataProcClusterId:c9qt0nu4guhcq29bgi3j\n",
      "\tcommitMode:AUTO\n",
      "\tide:JUPYTER_LAB\n",
      "\tdefaultFolderId:b1gh2b5r1kmghih05so4\n",
      "\tideExecutionMode:DEDICATED\n",
      "\tvmInactivityTimeout:100s\n",
      "\tunit_balance:55\n",
      "\n",
      "\n",
      "***********************************************\n",
      "        \n",
      "Project name: Queue-Service\n",
      "\n",
      "Project ID: bt15an734pcprskkvjkt\n",
      "\n",
      "Project settings:\n",
      "\n",
      "\tearlyAccess:False\n",
      "\tcommitMode:AUTO\n",
      "\tide:JUPYTER_LAB\n",
      "\tideExecutionMode:DEDICATED\n",
      "\tvmInactivityTimeout:100s\n",
      "\tdefaultDedicatedSpec:c1.4\n",
      "\tunit_balance:55\n",
      "\n",
      "\n",
      "***********************************************\n",
      "        \n",
      "Project name: Test Project\n",
      "\n",
      "Project ID: bt11ahcdg10go19banm9\n",
      "\n",
      "Project settings:\n",
      "\n",
      "\tearlyAccess:False\n",
      "\tcommitMode:STANDARD\n",
      "\tide:JUPYTER_LAB\n",
      "\tvmInactivityTimeout:100s\n",
      "\tunit_balance:55\n",
      "\n",
      "\n",
      "***********************************************\n",
      "        \n",
      "Project name: Test Project3\n",
      "\n",
      "Project ID: bt1s08ojg8i38htnbmru\n",
      "\n",
      "Project settings:\n",
      "\n",
      "\tearlyAccess:False\n",
      "\tcommitMode:STANDARD\n",
      "\tide:JUPYTER_LAB\n",
      "\tvmInactivityTimeout:100s\n",
      "\tunit_balance:55\n",
      "\n",
      "\n",
      "***********************************************\n",
      "        \n",
      "Project name: yaGPT_test\n",
      "\n",
      "Project ID: bt1jd2fe23esc4edr14q\n",
      "\n",
      "Project settings:\n",
      "\n",
      "\tearlyAccess:False\n",
      "\tcommitMode:AUTO\n",
      "\tide:JUPYTER_LAB\n",
      "\tideExecutionMode:DEDICATED\n",
      "\tvmInactivityTimeout:100s\n",
      "\tunit_balance:55\n",
      "\n",
      "\n",
      "***********************************************\n",
      "        \n"
     ]
    }
   ],
   "source": [
    "default_values = {\"unit_balance\": 55, \"vmInactivityTimeout\":\"100s\" }\n",
    "bad_projects, projects = dataSphereManager.get_projects(community_id='bt1u8sr3l01444sc22gm', parse_projects_flag=True, default_values=default_values)"
   ]
  },
  {
   "cell_type": "markdown",
   "id": "3563ca9f-fb1e-4504-981a-db397d975297",
   "metadata": {},
   "source": [
    "Проекты с отличающимися настройками"
   ]
  },
  {
   "cell_type": "code",
   "execution_count": 21,
   "id": "9028c4df-c220-4d8c-b503-4147bd2df82c",
   "metadata": {},
   "outputs": [
    {
     "data": {
      "text/plain": [
       "'All projects include default settings'"
      ]
     },
     "execution_count": 21,
     "metadata": {},
     "output_type": "execute_result"
    }
   ],
   "source": [
    "bad_projects"
   ]
  },
  {
   "cell_type": "markdown",
   "id": "2c610984-1386-48ac-983e-6649c6fa3ee5",
   "metadata": {},
   "source": [
    "## Установить всем проектам сообщества настройки по умолчанию"
   ]
  },
  {
   "cell_type": "markdown",
   "id": "b159d81b-019e-48dd-ab9d-d4d6b62a1572",
   "metadata": {},
   "source": [
    "Необходимо подставить идентификатор интересующего сообщества и настройки по умолчанию"
   ]
  },
  {
   "cell_type": "code",
   "execution_count": 22,
   "id": "738dd46a-e3ab-47c6-8c8b-4c84a7e13486",
   "metadata": {},
   "outputs": [
    {
     "name": "stdout",
     "output_type": "stream",
     "text": [
      "{'projects': [{'settings': {'earlyAccess': False, 'serviceAccountId': 'ajetr04s677nsraibs0k', 'subnetId': 'e9b54dnsjn2tlnug78bj', 'dataProcClusterId': 'c9qt0nu4guhcq29bgi3j', 'commitMode': 'AUTO', 'ide': 'JUPYTER_LAB', 'defaultFolderId': 'b1gh2b5r1kmghih05so4', 'ideExecutionMode': 'DEDICATED', 'vmInactivityTimeout': '100s', 'unit_balance': 55}, 'limits': {}, 'id': 'bt1j4ngtkccd9vl6sor3', 'createdAt': '2024-02-21T02:23:50Z', 'name': 'Change name', 'createdById': 'aje3e6pnq1io5fe801d3', 'communityId': 'bt1u8sr3l01444sc22gm'}, {'settings': {'earlyAccess': False, 'commitMode': 'AUTO', 'ide': 'JUPYTER_LAB', 'ideExecutionMode': 'DEDICATED', 'vmInactivityTimeout': '100s', 'unit_balance': 55}, 'limits': {}, 'id': 'bt14i6sv6qk5p4300r5v', 'createdAt': '2024-03-27T19:24:17Z', 'name': 'CheckerTest', 'createdById': 'ajeihend08ebgp2seu06', 'communityId': 'bt1u8sr3l01444sc22gm'}, {'settings': {'earlyAccess': False, 'serviceAccountId': 'ajetr04s677nsraibs0k', 'subnetId': 'e9b54dnsjn2tlnug78bj', 'dataProcClusterId': 'c9qt0nu4guhcq29bgi3j', 'commitMode': 'AUTO', 'ide': 'JUPYTER_LAB', 'defaultFolderId': 'b1gh2b5r1kmghih05so4', 'ideExecutionMode': 'DEDICATED', 'vmInactivityTimeout': '100s', 'unit_balance': 55}, 'limits': {}, 'id': 'bt14a6ea2r49lf6kfoa4', 'createdAt': '2024-02-08T11:48:18Z', 'name': 'DataProcExample', 'createdById': 'aje3e6pnq1io5fe801d3', 'communityId': 'bt1u8sr3l01444sc22gm'}, {'settings': {'earlyAccess': False, 'commitMode': 'AUTO', 'ide': 'JUPYTER_LAB', 'ideExecutionMode': 'DEDICATED', 'vmInactivityTimeout': '100s', 'defaultDedicatedSpec': 'c1.4', 'unit_balance': 55}, 'limits': {}, 'id': 'bt15an734pcprskkvjkt', 'createdAt': '2024-03-18T10:56:27Z', 'name': 'Queue-Service', 'createdById': 'ajebni1dr6lgce3jkl3d', 'communityId': 'bt1u8sr3l01444sc22gm'}, {'settings': {'earlyAccess': False, 'commitMode': 'STANDARD', 'ide': 'JUPYTER_LAB', 'vmInactivityTimeout': '100s', 'unit_balance': 55}, 'limits': {}, 'id': 'bt11ahcdg10go19banm9', 'createdAt': '2024-03-18T11:30:15Z', 'name': 'Test Project', 'description': 'Project created from API', 'createdById': 'aje3e6pnq1io5fe801d3', 'communityId': 'bt1u8sr3l01444sc22gm'}, {'settings': {'earlyAccess': False, 'commitMode': 'STANDARD', 'ide': 'JUPYTER_LAB', 'vmInactivityTimeout': '100s', 'unit_balance': 55}, 'limits': {}, 'id': 'bt1s08ojg8i38htnbmru', 'createdAt': '2024-03-25T09:05:09Z', 'name': 'Test Project3', 'description': 'Project created from API', 'createdById': 'ajebni1dr6lgce3jkl3d', 'communityId': 'bt1u8sr3l01444sc22gm'}, {'settings': {'earlyAccess': False, 'commitMode': 'AUTO', 'ide': 'JUPYTER_LAB', 'ideExecutionMode': 'DEDICATED', 'vmInactivityTimeout': '100s', 'unit_balance': 55}, 'limits': {}, 'id': 'bt1jd2fe23esc4edr14q', 'createdAt': '2023-12-12T20:29:27Z', 'name': 'yaGPT_test', 'createdById': 'aje40odhkk2v06f8ohgs', 'communityId': 'bt1u8sr3l01444sc22gm'}]}\n",
      "1/7\n",
      "Operation id: bt1ohe4tp13pvi309e39\n",
      "2/7\n",
      "Operation id: bt16ij6abo1fsdg77sau\n",
      "3/7\n",
      "Operation id: bt1ot5cmgtgd47nqtock\n",
      "4/7\n",
      "Operation id: bt1bti4ad9kuqmh37nm3\n",
      "5/7\n",
      "Operation id: bt1c8dvgbfma6de4a6pi\n",
      "6/7\n",
      "Operation id: bt1tp5gc0gfluu5rnis8\n",
      "7/7\n",
      "Operation id: bt1btobt3d4dnmkus7on\n"
     ]
    },
    {
     "data": {
      "text/plain": [
       "'ok'"
      ]
     },
     "execution_count": 22,
     "metadata": {},
     "output_type": "execute_result"
    }
   ],
   "source": [
    "dataSphereManager.update_all_community_projects(community_id=\"bt1u8sr3l01444sc22gm\", vmInactivityTimeout=\"100s\", unit_balance=53)"
   ]
  },
  {
   "cell_type": "markdown",
   "id": "a1ceca32-3e5c-4bec-93a9-c18c7a0ba91e",
   "metadata": {},
   "source": [
    "## Проверить статус операции"
   ]
  },
  {
   "cell_type": "markdown",
   "id": "ab61ff7f-4335-468c-8a97-3dc7728171fa",
   "metadata": {},
   "source": [
    "Необходимо подставить идентификатор операции"
   ]
  },
  {
   "cell_type": "code",
   "execution_count": 6,
   "id": "158aa9ba-3011-40d6-ac3f-515b5da6d9f4",
   "metadata": {},
   "outputs": [
    {
     "data": {
      "text/plain": [
       "{'done': True,\n",
       " 'metadata': {'@type': 'type.googleapis.com/yandex.cloud.datasphere.v2.UpdateProjectMetadata',\n",
       "  'projectId': 'bt11ahcdg10go19banm9'},\n",
       " 'response': {'@type': 'type.googleapis.com/yandex.cloud.datasphere.v2.Project',\n",
       "  'settings': {'earlyAccess': False,\n",
       "   'commitMode': 'STANDARD',\n",
       "   'ide': 'JUPYTER_LAB',\n",
       "   'vmInactivityTimeout': '100s'},\n",
       "  'limits': {},\n",
       "  'id': 'bt11ahcdg10go19banm9',\n",
       "  'createdAt': '2024-03-18T11:30:15Z',\n",
       "  'name': 'Test Project',\n",
       "  'description': 'Project created from API',\n",
       "  'createdById': 'aje3e6pnq1io5fe801d3',\n",
       "  'communityId': 'bt1u8sr3l01444sc22gm'},\n",
       " 'id': 'bt1c8dvgbfma6de4a6pi'}"
      ]
     },
     "execution_count": 6,
     "metadata": {},
     "output_type": "execute_result"
    }
   ],
   "source": [
    "operation_id = \"bt1c8dvgbfma6de4a6pi\"\n",
    "operationManager.check_operation_status(operation_id=operation_id)"
   ]
  },
  {
   "cell_type": "code",
   "execution_count": null,
   "id": "c34738ca-82a2-4e6b-858e-ab4b4f97bcbf",
   "metadata": {},
   "outputs": [],
   "source": []
  }
 ],
 "metadata": {
  "kernelspec": {
   "display_name": "Python 3 (ipykernel)",
   "language": "python",
   "name": "python3"
  },
  "language_info": {
   "codemirror_mode": {
    "name": "ipython",
    "version": 3
   },
   "file_extension": ".py",
   "mimetype": "text/x-python",
   "name": "python",
   "nbconvert_exporter": "python",
   "pygments_lexer": "ipython3",
   "version": "3.12.0"
  }
 },
 "nbformat": 4,
 "nbformat_minor": 5
}
